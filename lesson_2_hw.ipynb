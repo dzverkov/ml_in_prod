{
 "cells": [
  {
   "cell_type": "markdown",
   "metadata": {},
   "source": [
    "#### 1. Напишите функцию, которая возвращает сумму двух вещественных аргументов a и b,   а к ней декоратор, который делает так, чтобы возвращаемое значение функцией было по модулю 5."
   ]
  },
  {
   "cell_type": "code",
   "execution_count": 9,
   "metadata": {},
   "outputs": [
    {
     "data": {
      "text/plain": [
       "0.9000000000000004"
      ]
     },
     "execution_count": 9,
     "metadata": {},
     "output_type": "execute_result"
    }
   ],
   "source": [
    "def get_module_5(func):\n",
    "    def wrapper(*args, **kwargs):\n",
    "        return func(*args, **kwargs) % 5\n",
    "    return wrapper\n",
    "\n",
    "@get_module_5\n",
    "def get_sum(a, b):\n",
    "    return (a + b)\n",
    "\n",
    "r1 = get_sum(4.4, 1.5)\n",
    "\n",
    "r1"
   ]
  },
  {
   "cell_type": "markdown",
   "metadata": {},
   "source": [
    "#### 2. Попробуйте описать своими словами основные отличия SMOTE от ADASYN, ознакомившись с документацией к ним."
   ]
  },
  {
   "cell_type": "markdown",
   "metadata": {},
   "source": [
    "При использовании SMOTE, в области, где множество имеет низкую плотность её повышает. Что нарушает изначальное распределение.\n",
    "ADASYN учитывает плотность распеределения, в результате плотность областей с выбросами изменяется в меньшей степени, \n",
    "чем при использовании SMOTE."
   ]
  }
 ],
 "metadata": {
  "kernelspec": {
   "display_name": "Python 3",
   "language": "python",
   "name": "python3"
  },
  "language_info": {
   "codemirror_mode": {
    "name": "ipython",
    "version": 3
   },
   "file_extension": ".py",
   "mimetype": "text/x-python",
   "name": "python",
   "nbconvert_exporter": "python",
   "pygments_lexer": "ipython3",
   "version": "3.7.4"
  }
 },
 "nbformat": 4,
 "nbformat_minor": 2
}
